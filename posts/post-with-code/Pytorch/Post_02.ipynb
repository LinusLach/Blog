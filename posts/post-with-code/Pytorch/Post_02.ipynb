{
 "cells": [
  {
   "cell_type": "raw",
   "metadata": {},
   "source": [
    "---\n",
    "title: \"A Gentle (Mathematicians) Introduction to PyTorch and Neural Networks Part 02\"\n",
    "author: \"Linus Lach\"\n",
    "date: \"2023-07-05\"\n",
    "categories: [Python, PyTorch, Machine Learning, Gradient Descent, Softmax]\n",
    "image: \"image.png\"\n",
    "format:\n",
    "    html:\n",
    "        code-fold: false\n",
    "jupyter: python3\n",
    "---\n"
   ]
  },
  {
   "cell_type": "markdown",
   "metadata": {},
   "source": [
    "# A Gentle (Mathematicians) Introduction to PyTorch and Neural Networks Part 02\n",
    "#### Todo: Change intro\n",
    "In this blog posts, I'd like to introduce a commonly used optimizer for training models such as the logistic model we introduced in the [last post](https://linus-lach.de/posts/post-with-code/pytorch/post_01).\n",
    "\n",
    "The structure of this post is as follows:\n",
    "First, we familiarize ourselves a bit with the `PyTorch` framework. To build on this newly gained knowledge, we build a logistic model with `PyTorch` and gain some understanding about the binary cross-entropy loss in a theoretical setting.\n",
    "In the final part we will learn how to train our logistic regression model to achieve a good fit on given data.\n",
    "\n",
    "## (Stochastic) gradient descent"
   ]
  },
  {
   "cell_type": "code",
   "execution_count": 1,
   "metadata": {
    "ExecuteTime": {
     "start_time": "2023-05-16T16:20:07.718043Z",
     "end_time": "2023-05-16T16:20:10.239782Z"
    }
   },
   "outputs": [],
   "source": [
    "#Some packages needed throughout the article\n",
    "import torch\n",
    "from torch import nn, optim\n",
    "from torch.utils.data import Dataset, DataLoader\n",
    "import numpy as np\n",
    "import matplotlib.pyplot as plt\n",
    "%matplotlib inline\n"
   ]
  },
  {
   "cell_type": "markdown",
   "metadata": {},
   "source": [
    "## Gradient descent in one dimension\n"
   ]
  },
  {
   "cell_type": "code",
   "execution_count": 2,
   "metadata": {
    "ExecuteTime": {
     "start_time": "2023-05-16T16:20:13.066091Z",
     "end_time": "2023-05-16T16:20:13.080081Z"
    }
   },
   "outputs": [],
   "source": [
    "N=200\n",
    "X = np.linspace(-2,6,N)\n",
    "def f(x):\n",
    "    return (x-2)**2"
   ]
  },
  {
   "cell_type": "code",
   "execution_count": 3,
   "metadata": {
    "ExecuteTime": {
     "start_time": "2023-05-16T16:20:13.801802Z",
     "end_time": "2023-05-16T16:20:13.819744Z"
    }
   },
   "outputs": [],
   "source": [
    "def gd_1d(epochs ,lr ,f ,x):\n",
    "    coord = []\n",
    "    for epoch in range(epochs):\n",
    "        loss = f(x)\n",
    "        coord.append([x.data,loss.data])\n",
    "        loss.backward()\n",
    "        x.data = x.data - lr * x.grad.data\n",
    "        x.grad.data.zero_()\n",
    "\n",
    "    return np.transpose(np.reshape(coord,(epochs,2)))\n"
   ]
  },
  {
   "cell_type": "code",
   "execution_count": 4,
   "metadata": {
    "ExecuteTime": {
     "start_time": "2023-05-16T16:20:14.569748Z",
     "end_time": "2023-05-16T16:20:14.591689Z"
    }
   },
   "outputs": [],
   "source": [
    "x0 = torch.tensor(-1.0,requires_grad=True)\n",
    "lr = 0.1\n",
    "epochs = 20\n",
    "coord = gd_1d(epochs,lr,f,x0)\n",
    "show_plt = False\n",
    "if show_plt is True:\n",
    "    plt.plot(X,f(X))\n",
    "    plt.plot(coord[0],coord[1],'-or')\n",
    "    plt.xlim((-2,6))\n",
    "    plt.ylim((-2,10))\n"
   ]
  },
  {
   "cell_type": "raw",
   "metadata": {},
   "source": [
    "<iframe src='gd_1d_xsq.html' width=700 height=450></iframe>"
   ]
  },
  {
   "cell_type": "code",
   "execution_count": 5,
   "outputs": [],
   "source": [
    "def f(x):\n",
    "    return 0.5*(0.75*x-1.2)**4-2*(0.75*x-1)**2+2\n"
   ],
   "metadata": {
    "collapsed": false,
    "ExecuteTime": {
     "start_time": "2023-05-16T16:20:15.625928Z",
     "end_time": "2023-05-16T16:20:15.635901Z"
    }
   }
  },
  {
   "cell_type": "code",
   "execution_count": 6,
   "outputs": [],
   "source": [
    "x0 = torch.tensor(-1.0,requires_grad=True)\n",
    "lr = 0.1\n",
    "epochs = 20\n",
    "coord = gd_1d(epochs,lr,f,x0)\n",
    "show_plt = False\n",
    "if show_plt is True:\n",
    "    plt.plot(X,f(X))\n",
    "    plt.plot(coord[0],coord[1],'-or')\n",
    "    plt.xlim((-2,6))\n",
    "    plt.ylim((-2,10))\n"
   ],
   "metadata": {
    "collapsed": false,
    "ExecuteTime": {
     "start_time": "2023-05-16T16:20:16.195945Z",
     "end_time": "2023-05-16T16:20:16.241822Z"
    }
   }
  },
  {
   "cell_type": "raw",
   "source": [
    "<iframe src='gd_1d_xquartic_lr01.html' width=700 height=450></iframe>"
   ],
   "metadata": {
    "collapsed": false
   }
  },
  {
   "cell_type": "raw",
   "source": [],
   "metadata": {
    "collapsed": false
   }
  },
  {
   "cell_type": "code",
   "execution_count": 7,
   "outputs": [],
   "source": [
    "x0 = torch.tensor(-1.0,requires_grad=True)\n",
    "lr = 0.40\n",
    "epochs = 20\n",
    "coord = gd_1d(epochs,lr,f,x0)\n",
    "show_plt = False\n",
    "if show_plt is True:\n",
    "    plt.plot(X,f(X))\n",
    "    plt.plot(coord[0],coord[1],'-or')\n",
    "    plt.xlim((-2,6))\n",
    "    plt.ylim((-2,10))\n"
   ],
   "metadata": {
    "collapsed": false,
    "ExecuteTime": {
     "start_time": "2023-05-16T16:20:18.154523Z",
     "end_time": "2023-05-16T16:20:18.166492Z"
    }
   }
  },
  {
   "cell_type": "raw",
   "source": [
    "<iframe src='gd_1d_xquartic_lr04.html' width=700 height=450></iframe>"
   ],
   "metadata": {
    "collapsed": false
   }
  },
  {
   "cell_type": "markdown",
   "source": [
    "## (Stochastic) Gradient descent in two dimensions"
   ],
   "metadata": {
    "collapsed": false
   }
  },
  {
   "cell_type": "markdown",
   "source": [
    "Motivate Gradient descent in two dimensions using error function from first post."
   ],
   "metadata": {
    "collapsed": false
   }
  },
  {
   "cell_type": "code",
   "execution_count": 39,
   "outputs": [],
   "source": [
    "# Create a dataset class that produces our example data\n",
    "\n",
    "class Data_2(Dataset):\n",
    "\n",
    "    def __init__(self, soft_max=False):\n",
    "        self.x = torch.arange(-2, 2, 0.1).view(-1, 1)\n",
    "        if soft_max:\n",
    "            self.y = torch.zeros(self.x.shape[0])\n",
    "        else:\n",
    "            self.y = torch.zeros(self.x.shape[0], 1)\n",
    "        self.y[self.x[:, 0] > 0.5] = 1\n",
    "        if soft_max:\n",
    "            self.y = self.y.type(torch.LongTensor)\n",
    "        self.len = self.x.shape[0]\n",
    "\n",
    "    def __getitem__(self, index):\n",
    "        return self.x[index], self.y[index]\n",
    "\n",
    "    def __len__(self):\n",
    "        return self.len"
   ],
   "metadata": {
    "collapsed": false,
    "ExecuteTime": {
     "start_time": "2023-05-16T16:33:04.357410Z",
     "end_time": "2023-05-16T16:33:04.375551Z"
    }
   }
  },
  {
   "cell_type": "code",
   "execution_count": 40,
   "outputs": [],
   "source": [
    "W = torch.arange(0,10,0.1)\n",
    "B = torch.arange(0,10,0.1)\n",
    "\n",
    "WW,BB = torch.meshgrid(W,B,indexing = 'ij')"
   ],
   "metadata": {
    "collapsed": false,
    "ExecuteTime": {
     "start_time": "2023-05-16T16:33:04.636504Z",
     "end_time": "2023-05-16T16:33:04.655490Z"
    }
   }
  },
  {
   "cell_type": "code",
   "execution_count": 41,
   "outputs": [],
   "source": [
    "data_2 = Data_2()\n",
    "x0 = data_2.x[11]\n",
    "y0 = data_2.y[11]\n",
    "loss = nn.BCELoss()\n",
    "\n",
    "def wb_loss(w,b):\n",
    "    yhat = torch.sigmoid(x0*w+b)\n",
    "    return loss(yhat,y0)"
   ],
   "metadata": {
    "collapsed": false,
    "ExecuteTime": {
     "start_time": "2023-05-16T16:33:04.902833Z",
     "end_time": "2023-05-16T16:33:04.922779Z"
    }
   }
  },
  {
   "cell_type": "code",
   "execution_count": 42,
   "outputs": [],
   "source": [
    "ZZ = torch.zeros_like(WW)\n",
    "for i,w in enumerate(W):\n",
    "    for j,b in enumerate(B):\n",
    "        ZZ[i,j] = wb_loss(w,b).detach()"
   ],
   "metadata": {
    "collapsed": false,
    "ExecuteTime": {
     "start_time": "2023-05-16T16:33:05.162443Z",
     "end_time": "2023-05-16T16:33:05.659897Z"
    }
   }
  },
  {
   "cell_type": "code",
   "execution_count": 43,
   "outputs": [],
   "source": [
    "def train_model_GD(iter,lr,f,x1,x2):\n",
    "    COORD = []\n",
    "    for epoch in range(iter):\n",
    "        loss = f(x1,x2)\n",
    "        COORD.append([x1.data,x2.data,loss.data])\n",
    "        loss.backward()\n",
    "        x1.data = x1.data - lr * x1.grad.data\n",
    "        x2.data = x2.data - lr * x2.grad.data\n",
    "\n",
    "        x1.grad.data.zero_();x2.grad.data.zero_()\n",
    "\n",
    "    return np.transpose(np.reshape(COORD,(iter,3)))\n"
   ],
   "metadata": {
    "collapsed": false,
    "ExecuteTime": {
     "start_time": "2023-05-16T16:33:05.662887Z",
     "end_time": "2023-05-16T16:33:05.675135Z"
    }
   }
  },
  {
   "cell_type": "code",
   "execution_count": 44,
   "outputs": [],
   "source": [
    "w0 = torch.tensor([0.5],requires_grad=True)\n",
    "b0 = torch.tensor([9.0],requires_grad=True)"
   ],
   "metadata": {
    "collapsed": false,
    "ExecuteTime": {
     "start_time": "2023-05-16T16:33:06.413561Z",
     "end_time": "2023-05-16T16:33:06.433507Z"
    }
   }
  },
  {
   "cell_type": "code",
   "execution_count": 45,
   "outputs": [],
   "source": [
    "coord = train_model_GD(20,0.5,wb_loss,w0,b0)"
   ],
   "metadata": {
    "collapsed": false,
    "ExecuteTime": {
     "start_time": "2023-05-16T16:33:06.780206Z",
     "end_time": "2023-05-16T16:33:06.799155Z"
    }
   }
  },
  {
   "cell_type": "code",
   "execution_count": 54,
   "outputs": [],
   "source": [
    "from mpl_toolkits.axes_grid1 import make_axes_locatable"
   ],
   "metadata": {
    "collapsed": false,
    "ExecuteTime": {
     "start_time": "2023-05-16T16:41:04.118193Z",
     "end_time": "2023-05-16T16:41:04.167371Z"
    }
   }
  },
  {
   "cell_type": "code",
   "execution_count": 57,
   "outputs": [
    {
     "data": {
      "text/plain": "<Figure size 800x400 with 3 Axes>",
      "image/png": "[encoded data removed]"
     },
     "metadata": {},
     "output_type": "display_data"
    }
   ],
   "source": [
    "fig = plt.figure(figsize = (8,4))\n",
    "\n",
    "ax1 = fig.add_subplot(121)\n",
    "im1 = ax1.pcolor(WW,BB,ZZ)\n",
    "im2 = ax1.plot(coord[0],coord[1],'-or')\n",
    "\n",
    "divider = make_axes_locatable(ax1)\n",
    "cax = divider.append_axes('right', size='5%', pad=0.05)\n",
    "fig.colorbar(im1, cax=cax, orientation='vertical')\n",
    "\n",
    "ax2 = fig.add_subplot(122)\n",
    "im3 = ax2.plot(coord[2])\n",
    "\n"
   ],
   "metadata": {
    "collapsed": false,
    "ExecuteTime": {
     "start_time": "2023-05-16T16:45:05.054771Z",
     "end_time": "2023-05-16T16:45:05.379939Z"
    }
   }
  },
  {
   "cell_type": "code",
   "execution_count": 16,
   "metadata": {
    "ExecuteTime": {
     "start_time": "2023-05-16T16:20:29.971333Z",
     "end_time": "2023-05-16T16:20:29.995271Z"
    }
   },
   "outputs": [],
   "source": [
    "def f_(x,y):\n",
    "    return 2*(2-x)**2*(torch.exp(-1*(x**2)-(y+1)**2))-15*(1/5*x-x**3-y**3)*torch.exp(-x**2 - y**2)-1/3*torch.exp(-(x + 1)**2 - y**2)"
   ]
  },
  {
   "cell_type": "code",
   "execution_count": 58,
   "metadata": {
    "ExecuteTime": {
     "start_time": "2023-05-16T16:47:00.984082Z",
     "end_time": "2023-05-16T16:47:01.902896Z"
    }
   },
   "outputs": [
    {
     "data": {
      "text/plain": "<Figure size 800x400 with 3 Axes>",
      "image/png": "[encoded data removed]"
     },
     "metadata": {},
     "output_type": "display_data"
    }
   ],
   "source": [
    "X = torch.arange(-4,4,0.05)\n",
    "Y = torch.arange(-4,4,0.05)\n",
    "XX,YY = torch.meshgrid(X,Y,indexing='ij')\n",
    "ZZ = f_(XX,YY)\n",
    "\n",
    "n = 100\n",
    "lr = 0.02\n",
    "x1 = torch.tensor(-0.3, requires_grad=True)\n",
    "x2 = torch.tensor(-0.5, requires_grad=True)\n",
    "COORD = train_model_GD(n, lr, f_, x1, x2)\n",
    "\n",
    "fig = plt.figure(figsize = (8,4))\n",
    "\n",
    "ax1 = fig.add_subplot(121)\n",
    "\n",
    "im1 = ax1.pcolor(XX, YY, ZZ)\n",
    "im2 = ax1.plot(COORD[0], COORD[1], 'o-r')\n",
    "\n",
    "divider = make_axes_locatable(ax1)\n",
    "cax = divider.append_axes('right', size='5%', pad=0.05)\n",
    "fig.colorbar(im1, cax=cax, orientation='vertical')\n",
    "\n",
    "ax2 = fig.add_subplot(122)\n",
    "im3 = ax2.plot(COORD[2])"
   ]
  },
  {
   "cell_type": "code",
   "execution_count": 34,
   "outputs": [
    {
     "name": "stdout",
     "output_type": "stream",
     "text": [
      "-1.54713\n"
     ]
    }
   ],
   "source": [
    "x1 = torch.tensor(-0.3, requires_grad=True)\n",
    "x2 = torch.tensor(-0.5, requires_grad=True)\n",
    "print(train_model_GD(n,0.14,f_,x1,x2)[2][-1])"
   ],
   "metadata": {
    "collapsed": false,
    "ExecuteTime": {
     "start_time": "2023-05-16T16:29:22.262592Z",
     "end_time": "2023-05-16T16:29:22.323446Z"
    }
   }
  },
  {
   "cell_type": "code",
   "execution_count": 35,
   "metadata": {
    "ExecuteTime": {
     "start_time": "2023-05-16T16:29:26.246903Z",
     "end_time": "2023-05-16T16:29:26.263909Z"
    }
   },
   "outputs": [],
   "source": [
    "def lr_grid(grid):\n",
    "    res = []\n",
    "    for elem in grid:\n",
    "       x1 = torch.tensor(-0.3, requires_grad=True)\n",
    "       x2 = torch.tensor(-0.5, requires_grad=True)\n",
    "       res.append(train_model_GD(n,elem,f_,x1,x2)[2][-1])\n",
    "    return res"
   ]
  },
  {
   "cell_type": "code",
   "execution_count": 60,
   "outputs": [],
   "source": [
    "grid = np.arange(0.01,0.5,0.005)\n",
    "tmp = lr_grid(grid)"
   ],
   "metadata": {
    "collapsed": false,
    "ExecuteTime": {
     "start_time": "2023-05-16T17:15:04.259668Z",
     "end_time": "2023-05-16T17:15:09.656497Z"
    }
   }
  },
  {
   "cell_type": "code",
   "execution_count": 61,
   "outputs": [
    {
     "name": "stdout",
     "output_type": "stream",
     "text": [
      "0.019999999999999997 -1.5846605\n"
     ]
    },
    {
     "data": {
      "text/plain": "[<matplotlib.lines.Line2D at 0x25cc3ff1390>]"
     },
     "execution_count": 61,
     "metadata": {},
     "output_type": "execute_result"
    },
    {
     "data": {
      "text/plain": "<Figure size 640x480 with 1 Axes>",
      "image/png": "[encoded data removed]"
     },
     "metadata": {},
     "output_type": "display_data"
    }
   ],
   "source": [
    "print(grid[np.argmin(tmp)], min(tmp))\n",
    "plt.plot(grid,tmp)"
   ],
   "metadata": {
    "collapsed": false,
    "ExecuteTime": {
     "start_time": "2023-05-16T17:15:09.658491Z",
     "end_time": "2023-05-16T17:15:09.802952Z"
    }
   }
  },
  {
   "cell_type": "code",
   "execution_count": null,
   "outputs": [],
   "source": [],
   "metadata": {
    "collapsed": false
   }
  }
 ],
 "metadata": {
  "kernelspec": {
   "display_name": "Python 3 (ipykernel)",
   "language": "python",
   "name": "python3"
  },
  "language_info": {
   "codemirror_mode": {
    "name": "ipython",
    "version": 3
   },
   "file_extension": ".py",
   "mimetype": "text/x-python",
   "name": "python",
   "nbconvert_exporter": "python",
   "pygments_lexer": "ipython3",
   "version": "3.8.16"
  }
 },
 "nbformat": 4,
 "nbformat_minor": 1
}
