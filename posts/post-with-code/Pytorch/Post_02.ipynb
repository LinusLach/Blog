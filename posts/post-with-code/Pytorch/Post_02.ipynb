{
 "cells": [
  {
   "cell_type": "raw",
   "metadata": {},
   "source": [
    "---\n",
    "title: \"A Gentle (Mathematicians) Introduction to PyTorch and Neural Networks Part 02\"\n",
    "author: \"Linus Lach\"\n",
    "date: \"2023-07-05\"\n",
    "categories: [Python, PyTorch, Machine Learning, Gradient Descent, Softmax]\n",
    "image: \"image.png\"\n",
    "format:\n",
    "    html:\n",
    "        code-fold: true\n",
    "jupyter: python3\n",
    "---\n"
   ]
  },
  {
   "cell_type": "markdown",
   "metadata": {},
   "source": [
    "# A Gentle (Mathematicians) Introduction to PyTorch and Neural Networks Part 02\n",
    "## Gradient descent in one dimension\n",
    "In this blog post, I'd like to introduce a common method used for training machine learning models such as the  [logistic model](https://linus-lach.de/posts/post-with-code/pytorch/post_01).\n",
    " This approach is commonly known as gradient descent—a method that, as its name implies, involves minimizing a function by progressively descending along its gradient.\n",
    "  In the context of regression, typically a loss function such as the mean squared error is minimized, which in turn yields an optimal fit for a given model.\n",
    "\n",
    "Mathematically speaking in its most basic form this translates into the following:\\\n",
    "Let $\\Omega\\subseteq \\mathbb{R}$ and consider a function $f:\\Omega \\to \\mathbb{R}$ that is at least one time differentiable in $\\Omega$. Set an initial value $x_0\\in\\Omega$, a step size $\\alpha \\geq 0$ and iterate for $n = 0,...,N$ through the following steps:\\\n",
    "&nbsp; &nbsp; 1. Calculate  $d = -f'(x_n)$\\\n",
    "&nbsp; &nbsp; 2. Set $x_{n+1} = x_{n} + \\alpha d$\n",
    "\n",
    "The procedure above ensures that $f(x_0) \\geq f(x_1) \\geq ... \\geq f(x_N)$ for a sufficiently small step size $\\alpha$, since each $x_n$ moves along the negative gradient towards a local minimum.\n",
    "\n",
    "Consider the following example:\n",
    "\n",
    "Let $f:\\mathbb{R}\\to\\mathbb{R}, \\: x\\mapsto (x-2)^2$ and define $x_0 = -1,\\,\\alpha = 0.1, N = 20$. Then, the following interactive plot visualizes each step of the gradient descent towards the minimum at $x=2$"
   ]
  },
  {
   "cell_type": "code",
   "execution_count": 2,
   "metadata": {
    "ExecuteTime": {
     "start_time": "2023-06-02T15:58:28.061176Z",
     "end_time": "2023-06-02T15:58:28.087744Z"
    }
   },
   "outputs": [],
   "source": [
    "#Some packages needed throughout the article\n",
    "import torch\n",
    "import numpy as np\n",
    "import matplotlib.pyplot as plt\n",
    "%matplotlib inline\n"
   ]
  },
  {
   "cell_type": "code",
   "execution_count": 74,
   "metadata": {
    "ExecuteTime": {
     "start_time": "2023-06-02T15:32:04.059528Z",
     "end_time": "2023-06-02T15:32:04.114226Z"
    }
   },
   "outputs": [],
   "source": [
    "N=200\n",
    "X = np.linspace(-2,6,N)\n",
    "def f(x):\n",
    "    return (x-2)**2\n",
    "\n",
    "def gd_1d(epochs ,lr ,f ,x):\n",
    "    coord = []\n",
    "    for epoch in range(epochs):\n",
    "        loss = f(x)\n",
    "        coord.append([x.data,loss.data])\n",
    "        loss.backward()\n",
    "        x.data = x.data - lr * x.grad.data\n",
    "        x.grad.data.zero_()\n",
    "\n",
    "    return np.transpose(np.reshape(coord,(epochs,2)))\n",
    "x0 = torch.tensor(-1.0,requires_grad=True)\n",
    "lr = 0.1\n",
    "epochs = 20\n",
    "coord = gd_1d(epochs,lr,f,x0)\n",
    "\n",
    "#Uncomment for a static version\n",
    "#plt.plot(X,f(X))\n",
    "#plt.plot(coord[0],coord[1],'-or')\n",
    "#plt.xlim((-2,6))\n",
    "#plt.ylim((-2,10))\n",
    "#plt.show()\n"
   ]
  },
  {
   "cell_type": "raw",
   "metadata": {},
   "source": [
    "<iframe src='gd_1d_xsq.html' width=700 height=450></iframe>"
   ]
  },
  {
   "cell_type": "markdown",
   "source": [
    "## Stop here"
   ],
   "metadata": {
    "collapsed": false
   }
  },
  {
   "cell_type": "code",
   "execution_count": 6,
   "metadata": {
    "ExecuteTime": {
     "start_time": "2023-06-02T15:32:04.137057Z",
     "end_time": "2023-06-02T15:32:04.178595Z"
    }
   },
   "outputs": [],
   "source": [
    "def f(x):\n",
    "    return 0.5*(0.75*x-1.2)**4-2*(0.75*x-1)**2+2\n"
   ]
  },
  {
   "cell_type": "code",
   "execution_count": 7,
   "metadata": {
    "ExecuteTime": {
     "start_time": "2023-06-02T15:32:07.990392Z",
     "end_time": "2023-06-02T15:32:08.051639Z"
    }
   },
   "outputs": [],
   "source": [
    "x0 = torch.tensor(-1.0,requires_grad=True)\n",
    "lr = 0.1\n",
    "epochs = 20\n",
    "coord = gd_1d(epochs,lr,f,x0)\n",
    "show_plt = False\n",
    "if show_plt is True:\n",
    "    plt.plot(X,f(X))\n",
    "    plt.plot(coord[0],coord[1],'-or')\n",
    "    plt.xlim((-2,6))\n",
    "    plt.ylim((-2,10))\n"
   ]
  },
  {
   "cell_type": "raw",
   "metadata": {},
   "source": [
    "<iframe src='gd_1d_xquartic_lr01.html' width=700 height=450></iframe>"
   ]
  },
  {
   "cell_type": "code",
   "execution_count": 8,
   "metadata": {
    "ExecuteTime": {
     "start_time": "2023-06-02T15:32:09.071643Z",
     "end_time": "2023-06-02T15:32:09.164268Z"
    }
   },
   "outputs": [],
   "source": [
    "x0 = torch.tensor(-1.0,requires_grad=True)\n",
    "lr = 0.40\n",
    "epochs = 20\n",
    "coord = gd_1d(epochs,lr,f,x0)\n",
    "show_plt = False\n",
    "if show_plt is True:\n",
    "    plt.plot(X,f(X))\n",
    "    plt.plot(coord[0],coord[1],'-or')\n",
    "    plt.xlim((-2,6))\n",
    "    plt.ylim((-2,10))\n"
   ]
  },
  {
   "cell_type": "raw",
   "metadata": {},
   "source": [
    "<iframe src='gd_1d_xquartic_lr04.html' width=700 height=450></iframe>"
   ]
  }
 ],
 "metadata": {
  "kernelspec": {
   "display_name": "Python 3 (ipykernel)",
   "language": "python",
   "name": "python3"
  },
  "language_info": {
   "codemirror_mode": {
    "name": "ipython",
    "version": 3
   },
   "file_extension": ".py",
   "mimetype": "text/x-python",
   "name": "python",
   "nbconvert_exporter": "python",
   "pygments_lexer": "ipython3",
   "version": "3.10.10"
  }
 },
 "nbformat": 4,
 "nbformat_minor": 1
}
