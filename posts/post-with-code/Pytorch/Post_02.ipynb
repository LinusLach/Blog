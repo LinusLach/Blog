{
 "cells": [
  {
   "cell_type": "raw",
   "metadata": {},
   "source": [
    "---\n",
    "title: \"A Gentle (Mathematicians) Introduction to PyTorch and Neural Networks Part 02\"\n",
    "author: \"Linus Lach\"\n",
    "date: \"2023-07-05\"\n",
    "categories: [Python, PyTorch, Machine Learning, Gradient Descent, Softmax]\n",
    "image: \"image.png\"\n",
    "format:\n",
    "    html:\n",
    "        code-fold: false\n",
    "jupyter: python3\n",
    "---\n"
   ]
  },
  {
   "cell_type": "markdown",
   "metadata": {},
   "source": [
    "# A Gentle (Mathematicians) Introduction to PyTorch and Neural Networks Part 02\n",
    "#### Todo: Change intro\n",
    "In this blog posts, I'd like to introduce a commonly used optimizer for training models such as the logistic model we introduced in the [last post](https://linus-lach.de/posts/post-with-code/pytorch/post_01).\n",
    "\n",
    "The structure of this post is as follows:\n",
    "First, we familiarize ourselves a bit with the `PyTorch` framework. To build on this newly gained knowledge, we build a logistic model with `PyTorch` and gain some understanding about the binary cross-entropy loss in a theoretical setting.\n",
    "In the final part we will learn how to train our logistic regression model to achieve a good fit on given data.\n",
    "\n",
    "## (Stochastic) gradient descent"
   ]
  },
  {
   "cell_type": "code",
   "execution_count": 54,
   "metadata": {
    "ExecuteTime": {
     "end_time": "2023-05-20T13:22:55.810585Z",
     "start_time": "2023-05-20T13:22:55.753704Z"
    }
   },
   "outputs": [],
   "source": [
    "#Some packages needed throughout the article\n",
    "import torch\n",
    "from torch import nn, optim\n",
    "from torch.utils.data import Dataset, DataLoader\n",
    "import numpy as np\n",
    "import matplotlib.pyplot as plt\n",
    "%matplotlib inline\n"
   ]
  },
  {
   "cell_type": "markdown",
   "metadata": {},
   "source": [
    "## Gradient descent in one dimension\n"
   ]
  },
  {
   "cell_type": "code",
   "execution_count": 55,
   "metadata": {
    "ExecuteTime": {
     "end_time": "2023-05-20T13:22:56.365479Z",
     "start_time": "2023-05-20T13:22:56.329575Z"
    }
   },
   "outputs": [],
   "source": [
    "N=200\n",
    "X = np.linspace(-2,6,N)\n",
    "def f(x):\n",
    "    return (x-2)**2"
   ]
  },
  {
   "cell_type": "code",
   "execution_count": 56,
   "metadata": {
    "ExecuteTime": {
     "end_time": "2023-05-20T13:22:56.953905Z",
     "start_time": "2023-05-20T13:22:56.922989Z"
    }
   },
   "outputs": [],
   "source": [
    "def gd_1d(epochs ,lr ,f ,x):\n",
    "    coord = []\n",
    "    for epoch in range(epochs):\n",
    "        loss = f(x)\n",
    "        coord.append([x.data,loss.data])\n",
    "        loss.backward()\n",
    "        x.data = x.data - lr * x.grad.data\n",
    "        x.grad.data.zero_()\n",
    "\n",
    "    return np.transpose(np.reshape(coord,(epochs,2)))\n"
   ]
  },
  {
   "cell_type": "code",
   "execution_count": 57,
   "metadata": {
    "ExecuteTime": {
     "end_time": "2023-05-20T13:22:57.659024Z",
     "start_time": "2023-05-20T13:22:57.614142Z"
    }
   },
   "outputs": [],
   "source": [
    "x0 = torch.tensor(-1.0,requires_grad=True)\n",
    "lr = 0.1\n",
    "epochs = 20\n",
    "coord = gd_1d(epochs,lr,f,x0)\n",
    "show_plt = False\n",
    "if show_plt is True:\n",
    "    plt.plot(X,f(X))\n",
    "    plt.plot(coord[0],coord[1],'-or')\n",
    "    plt.xlim((-2,6))\n",
    "    plt.ylim((-2,10))\n"
   ]
  },
  {
   "cell_type": "raw",
   "metadata": {},
   "source": [
    "<iframe src='gd_1d_xsq.html' width=700 height=450></iframe>"
   ]
  },
  {
   "cell_type": "code",
   "execution_count": 27,
   "metadata": {
    "ExecuteTime": {
     "end_time": "2023-05-20T13:22:58.881134Z",
     "start_time": "2023-05-20T13:22:58.853229Z"
    }
   },
   "outputs": [],
   "source": [
    "def f(x):\n",
    "    return 0.5*(0.75*x-1.2)**4-2*(0.75*x-1)**2+2\n"
   ]
  },
  {
   "cell_type": "code",
   "execution_count": 28,
   "metadata": {
    "ExecuteTime": {
     "end_time": "2023-05-20T13:22:59.381429Z",
     "start_time": "2023-05-20T13:22:59.330604Z"
    }
   },
   "outputs": [],
   "source": [
    "x0 = torch.tensor(-1.0,requires_grad=True)\n",
    "lr = 0.1\n",
    "epochs = 20\n",
    "coord = gd_1d(epochs,lr,f,x0)\n",
    "show_plt = False\n",
    "if show_plt is True:\n",
    "    plt.plot(X,f(X))\n",
    "    plt.plot(coord[0],coord[1],'-or')\n",
    "    plt.xlim((-2,6))\n",
    "    plt.ylim((-2,10))\n"
   ]
  },
  {
   "cell_type": "raw",
   "metadata": {},
   "source": [
    "<iframe src='gd_1d_xquartic_lr01.html' width=700 height=450></iframe>"
   ]
  },
  {
   "cell_type": "code",
   "execution_count": 29,
   "metadata": {
    "ExecuteTime": {
     "end_time": "2023-05-20T13:23:04.372609Z",
     "start_time": "2023-05-20T13:23:04.321780Z"
    }
   },
   "outputs": [],
   "source": [
    "x0 = torch.tensor(-1.0,requires_grad=True)\n",
    "lr = 0.40\n",
    "epochs = 20\n",
    "coord = gd_1d(epochs,lr,f,x0)\n",
    "show_plt = False\n",
    "if show_plt is True:\n",
    "    plt.plot(X,f(X))\n",
    "    plt.plot(coord[0],coord[1],'-or')\n",
    "    plt.xlim((-2,6))\n",
    "    plt.ylim((-2,10))\n"
   ]
  },
  {
   "cell_type": "raw",
   "metadata": {},
   "source": [
    "<iframe src='gd_1d_xquartic_lr04.html' width=700 height=450></iframe>"
   ]
  },
  {
   "cell_type": "markdown",
   "metadata": {},
   "source": [
    "## (Stochastic) Gradient descent in two dimensions"
   ]
  },
  {
   "cell_type": "markdown",
   "metadata": {},
   "source": [
    "Motivate Gradient descent in two dimensions using error function from first post."
   ]
  },
  {
   "cell_type": "code",
   "execution_count": 69,
   "metadata": {
    "ExecuteTime": {
     "start_time": "2023-05-20T14:07:00.184256Z",
     "end_time": "2023-05-20T14:07:00.203191Z"
    }
   },
   "outputs": [],
   "source": [
    "# Create a dataset class that produces our example data\n",
    "\n",
    "class Data_2(Dataset):\n",
    "\n",
    "    def __init__(self, soft_max=False,n = 40):\n",
    "        step = 4/n\n",
    "        self.x = torch.arange(-2, 2, step = step).view(-1, 1)\n",
    "        if soft_max:\n",
    "            self.y = torch.zeros(self.x.shape[0])\n",
    "        else:\n",
    "            self.y = torch.zeros(self.x.shape[0], 1)\n",
    "        self.y[self.x[:, 0] > 0.5] = 1\n",
    "        if soft_max:\n",
    "            self.y = self.y.type(torch.LongTensor)\n",
    "        self.len = self.x.shape[0]\n",
    "\n",
    "    def __getitem__(self, index):\n",
    "        return self.x[index], self.y[index]\n",
    "\n",
    "    def __len__(self):\n",
    "        return self.len\n",
    "\n",
    "def plot_data_2(data, model = None, est_line=False, soft_max=False):\n",
    "    if est_line:\n",
    "        plt.plot(data.x,\n",
    "                 torch.sigmoid(list(model.parameters())[0].item() * data.x + list(model.parameters())[1].item()),\n",
    "                 color='black',\n",
    "                 label='estimated decision boundary')\n",
    "    if soft_max:\n",
    "        X = data[:][0]\n",
    "        y_label = ['yhat=0', 'yhat=1']\n",
    "        y_color = ['r', 'b']\n",
    "        Y = []\n",
    "        for w, b, y_l, y_c in zip(model.state_dict()['0.weight'], model.state_dict()['0.bias'], y_label, y_color):\n",
    "            Y.append((w * X + b).numpy())\n",
    "            plt.plot(X.numpy(), (w * X + b).numpy(), y_c, label=y_l)\n",
    "    plt.plot(data.x.numpy()[(data.y == 0)], data.y.numpy()[(data.y == 0)], 'ro', label=\"class 0\")\n",
    "    plt.plot(data.x.numpy()[(data.y == 1)], data.y.numpy()[(data.y == 1)], 'bo', label=\"class 1\")\n",
    "    plt.legend()\n",
    "    plt.ylim(-0.5, 3)\n",
    "    plt.show()"
   ]
  },
  {
   "cell_type": "code",
   "execution_count": 70,
   "metadata": {
    "ExecuteTime": {
     "start_time": "2023-05-20T14:07:03.332005Z",
     "end_time": "2023-05-20T14:07:03.348995Z"
    }
   },
   "outputs": [],
   "source": [
    "W = torch.arange(0,10,0.1)\n",
    "B = torch.arange(0,10,0.1)\n",
    "\n",
    "WW,BB = torch.meshgrid(W,B,indexing = 'ij')"
   ]
  },
  {
   "cell_type": "code",
   "execution_count": 71,
   "metadata": {
    "ExecuteTime": {
     "start_time": "2023-05-20T14:07:04.665614Z",
     "end_time": "2023-05-20T14:07:04.702904Z"
    }
   },
   "outputs": [],
   "source": [
    "data_2 = Data_2(n=100)\n",
    "x0 = data_2.x[11]\n",
    "y0 = data_2.y[11]\n",
    "loss = nn.BCELoss()\n",
    "\n",
    "def wb_loss(w,b):\n",
    "    yhat = torch.sigmoid(x0*w+b)\n",
    "    return loss(yhat,y0)"
   ]
  },
  {
   "cell_type": "code",
   "execution_count": 63,
   "metadata": {
    "ExecuteTime": {
     "start_time": "2023-05-20T14:05:45.313089Z",
     "end_time": "2023-05-20T14:05:46.100983Z"
    }
   },
   "outputs": [],
   "source": [
    "ZZ = torch.zeros_like(WW)\n",
    "for i,w in enumerate(W):\n",
    "    for j,b in enumerate(B):\n",
    "        ZZ[i,j] = wb_loss(w,b).detach()"
   ]
  },
  {
   "cell_type": "code",
   "execution_count": 80,
   "metadata": {
    "ExecuteTime": {
     "start_time": "2023-05-20T15:00:57.284579Z",
     "end_time": "2023-05-20T15:00:57.311580Z"
    }
   },
   "outputs": [],
   "source": [
    "def train_model_GD(iter,lr,f,x1,x2):\n",
    "    COORD = []\n",
    "    for epoch in range(iter):\n",
    "        loss = f(x1,x2)\n",
    "        COORD.append([x1.data,x2.data,loss.data])\n",
    "        loss.backward()\n",
    "        x1.data = x1.data - lr * x1.grad.data\n",
    "        x2.data = x2.data - lr * x2.grad.data\n",
    "\n",
    "        x1.grad.data.zero_();x2.grad.data.zero_()\n",
    "\n",
    "    return np.transpose(np.reshape(COORD,(iter,3)))\n"
   ]
  },
  {
   "cell_type": "code",
   "execution_count": 65,
   "metadata": {
    "ExecuteTime": {
     "start_time": "2023-05-20T14:05:50.102929Z",
     "end_time": "2023-05-20T14:05:50.120880Z"
    }
   },
   "outputs": [],
   "source": [
    "w0 = torch.tensor([0.5],requires_grad=True)\n",
    "b0 = torch.tensor([9.0],requires_grad=True)"
   ]
  },
  {
   "cell_type": "code",
   "execution_count": 66,
   "metadata": {
    "ExecuteTime": {
     "start_time": "2023-05-20T14:05:54.329399Z",
     "end_time": "2023-05-20T14:05:54.378262Z"
    }
   },
   "outputs": [
    {
     "name": "stderr",
     "output_type": "stream",
     "text": [
      "C:\\Users\\lachlinu\\AppData\\Local\\anaconda3\\envs\\Torch\\lib\\site-packages\\numpy\\core\\fromnumeric.py:43: FutureWarning: The input object of type 'Tensor' is an array-like implementing one of the corresponding protocols (`__array__`, `__array_interface__` or `__array_struct__`); but not a sequence (or 0-D). In the future, this object will be coerced as if it was first converted using `np.array(obj)`. To retain the old behaviour, you have to either modify the type 'Tensor', or assign to an empty array created with `np.empty(correct_shape, dtype=object)`.\n",
      "  result = getattr(asarray(obj), method)(*args, **kwds)\n",
      "C:\\Users\\lachlinu\\AppData\\Local\\anaconda3\\envs\\Torch\\lib\\site-packages\\numpy\\core\\fromnumeric.py:43: VisibleDeprecationWarning: Creating an ndarray from ragged nested sequences (which is a list-or-tuple of lists-or-tuples-or ndarrays with different lengths or shapes) is deprecated. If you meant to do this, you must specify 'dtype=object' when creating the ndarray.\n",
      "  result = getattr(asarray(obj), method)(*args, **kwds)\n"
     ]
    }
   ],
   "source": [
    "coord = train_model_GD(20,0.5,wb_loss,w0,b0)"
   ]
  },
  {
   "cell_type": "code",
   "execution_count": 67,
   "metadata": {
    "ExecuteTime": {
     "start_time": "2023-05-20T14:05:56.036855Z",
     "end_time": "2023-05-20T14:05:56.065783Z"
    }
   },
   "outputs": [],
   "source": [
    "from mpl_toolkits.axes_grid1 import make_axes_locatable"
   ]
  },
  {
   "cell_type": "code",
   "execution_count": 68,
   "metadata": {
    "ExecuteTime": {
     "start_time": "2023-05-20T14:05:57.579197Z",
     "end_time": "2023-05-20T14:05:58.156653Z"
    }
   },
   "outputs": [
    {
     "data": {
      "text/plain": "<Figure size 800x400 with 3 Axes>",
      "image/png": "[encoded data removed]"
     },
     "metadata": {},
     "output_type": "display_data"
    }
   ],
   "source": [
    "fig = plt.figure(figsize = (8,4))\n",
    "\n",
    "ax1 = fig.add_subplot(121)\n",
    "im1 = ax1.pcolor(WW,BB,ZZ)\n",
    "im2 = ax1.plot(coord[0],coord[1],'-or')\n",
    "\n",
    "divider = make_axes_locatable(ax1)\n",
    "cax = divider.append_axes('right', size='5%', pad=0.05)\n",
    "fig.colorbar(im1, cax=cax, orientation='vertical')\n",
    "\n",
    "ax2 = fig.add_subplot(122)\n",
    "im3 = ax2.plot(coord[2])\n",
    "\n"
   ]
  },
  {
   "cell_type": "code",
   "execution_count": 90,
   "metadata": {
    "ExecuteTime": {
     "start_time": "2023-05-20T15:08:53.224602Z",
     "end_time": "2023-05-20T15:08:53.252473Z"
    }
   },
   "outputs": [],
   "source": [
    "def f_(x,y):\n",
    "    return 2*(2-x)**2*(torch.exp(-1*(x**2)-(y+1)**2))-15*(1/5*x-x**3-y**3)*torch.exp(-x**2 - y**2)-1/3*torch.exp(-(x + 1)**2 - y**2)"
   ]
  },
  {
   "cell_type": "code",
   "execution_count": 173,
   "metadata": {
    "ExecuteTime": {
     "start_time": "2023-05-20T16:26:41.530123Z",
     "end_time": "2023-05-20T16:26:42.660305Z"
    }
   },
   "outputs": [
    {
     "data": {
      "text/plain": "<Figure size 800x400 with 3 Axes>",
      "image/png": "[encoded data removed]"
     },
     "metadata": {},
     "output_type": "display_data"
    }
   ],
   "source": [
    "X = torch.arange(-4,4,0.05)\n",
    "Y = torch.arange(-4,4,0.05)\n",
    "XX,YY = torch.meshgrid(X,Y,indexing='ij')\n",
    "ZZ = f_(XX,YY)\n",
    "\n",
    "n = 100\n",
    "lr = 0.02\n",
    "x1 = torch.tensor(-2.0, requires_grad=True)\n",
    "x2 = torch.tensor(-1.0, requires_grad=True)\n",
    "COORD = train_model_GD(n, lr, f_, x1, x2)\n",
    "\n",
    "fig = plt.figure(figsize = (8,4))\n",
    "\n",
    "ax1 = fig.add_subplot(121)\n",
    "\n",
    "im1 = ax1.pcolor(XX, YY, ZZ)\n",
    "im2 = ax1.plot(COORD[0], COORD[1], 'o-r')\n",
    "\n",
    "divider = make_axes_locatable(ax1)\n",
    "cax = divider.append_axes('right', size='5%', pad=0.05)\n",
    "fig.colorbar(im1, cax=cax, orientation='vertical')\n",
    "\n",
    "ax2 = fig.add_subplot(122)\n",
    "im3 = ax2.plot(COORD[2])"
   ]
  },
  {
   "cell_type": "code",
   "execution_count": 92,
   "metadata": {
    "ExecuteTime": {
     "start_time": "2023-05-20T15:08:59.506617Z",
     "end_time": "2023-05-20T15:08:59.567495Z"
    }
   },
   "outputs": [
    {
     "name": "stdout",
     "output_type": "stream",
     "text": [
      "-1.54713\n"
     ]
    }
   ],
   "source": [
    "x1 = torch.tensor(-0.3, requires_grad=True)\n",
    "x2 = torch.tensor(-0.5, requires_grad=True)\n",
    "print(train_model_GD(n,0.14,f_,x1,x2)[2][-1])"
   ]
  },
  {
   "cell_type": "code",
   "execution_count": 93,
   "metadata": {
    "ExecuteTime": {
     "start_time": "2023-05-20T15:09:11.201278Z",
     "end_time": "2023-05-20T15:09:11.220267Z"
    }
   },
   "outputs": [],
   "source": [
    "def lr_grid(grid):\n",
    "    res = []\n",
    "    for elem in grid:\n",
    "       x1 = torch.tensor(-0.3, requires_grad=True)\n",
    "       x2 = torch.tensor(-0.5, requires_grad=True)\n",
    "       res.append(train_model_GD(n,elem,f_,x1,x2)[2][-1])\n",
    "    return res"
   ]
  },
  {
   "cell_type": "code",
   "execution_count": 94,
   "metadata": {
    "ExecuteTime": {
     "start_time": "2023-05-20T15:09:12.579915Z",
     "end_time": "2023-05-20T15:09:17.858963Z"
    }
   },
   "outputs": [],
   "source": [
    "grid = np.arange(0.01,0.5,0.005)\n",
    "tmp = lr_grid(grid)"
   ]
  },
  {
   "cell_type": "code",
   "execution_count": 95,
   "metadata": {
    "ExecuteTime": {
     "start_time": "2023-05-20T15:09:19.308094Z",
     "end_time": "2023-05-20T15:09:19.481628Z"
    }
   },
   "outputs": [
    {
     "name": "stdout",
     "output_type": "stream",
     "text": [
      "0.019999999999999997 -1.5846605\n"
     ]
    },
    {
     "data": {
      "text/plain": "[<matplotlib.lines.Line2D at 0x19de8c7c610>]"
     },
     "execution_count": 95,
     "metadata": {},
     "output_type": "execute_result"
    },
    {
     "data": {
      "text/plain": "<Figure size 640x480 with 1 Axes>",
      "image/png": "[encoded data removed]"
     },
     "metadata": {},
     "output_type": "display_data"
    }
   ],
   "source": [
    "print(grid[np.argmin(tmp)], min(tmp))\n",
    "plt.plot(grid,tmp)"
   ]
  },
  {
   "cell_type": "markdown",
   "source": [
    "### Grid search initial values"
   ],
   "metadata": {
    "collapsed": false
   }
  },
  {
   "cell_type": "code",
   "execution_count": 174,
   "outputs": [],
   "source": [
    "def iv_grid(X0,Y0):\n",
    "    res = np.zeros((len(X0),len(Y0)))\n",
    "    for j,x0 in enumerate(X0):\n",
    "        for i,y0 in enumerate(Y0):\n",
    "           res[i,j] = train_model_GD(20,0.01,f_,x0,y0)[2][-1]\n",
    "    return res\n"
   ],
   "metadata": {
    "collapsed": false,
    "ExecuteTime": {
     "start_time": "2023-05-20T16:27:26.279862Z",
     "end_time": "2023-05-20T16:27:26.307145Z"
    }
   }
  },
  {
   "cell_type": "code",
   "execution_count": 175,
   "outputs": [],
   "source": [
    "n=5\n",
    "X0 = [torch.tensor(i/n,requires_grad=True) for i in range(-10,11,1)]\n",
    "Y0 = [torch.tensor(i/n,requires_grad=True) for i in range(-10,11,1)]"
   ],
   "metadata": {
    "collapsed": false,
    "ExecuteTime": {
     "start_time": "2023-05-20T16:27:27.313246Z",
     "end_time": "2023-05-20T16:27:27.343203Z"
    }
   }
  },
  {
   "cell_type": "code",
   "execution_count": 176,
   "outputs": [],
   "source": [
    "tmp = iv_grid(X0,Y0)"
   ],
   "metadata": {
    "collapsed": false,
    "ExecuteTime": {
     "start_time": "2023-05-20T16:27:28.142139Z",
     "end_time": "2023-05-20T16:27:34.597748Z"
    }
   }
  },
  {
   "cell_type": "code",
   "execution_count": 177,
   "outputs": [],
   "source": [
    "XX0,YY0 = np.meshgrid(np.arange(-2,2,0.2),np.arange(-2,2,0.2))"
   ],
   "metadata": {
    "collapsed": false,
    "ExecuteTime": {
     "start_time": "2023-05-20T16:27:34.600741Z",
     "end_time": "2023-05-20T16:27:34.612354Z"
    }
   }
  },
  {
   "cell_type": "code",
   "execution_count": 178,
   "outputs": [
    {
     "name": "stdout",
     "output_type": "stream",
     "text": [
      "(20, 20) (20, 20) (21, 21)\n"
     ]
    }
   ],
   "source": [
    "print(XX0.shape,YY0.shape,tmp.shape)"
   ],
   "metadata": {
    "collapsed": false,
    "ExecuteTime": {
     "start_time": "2023-05-20T16:27:34.616321Z",
     "end_time": "2023-05-20T16:27:34.672404Z"
    }
   }
  },
  {
   "cell_type": "code",
   "execution_count": 179,
   "outputs": [
    {
     "ename": "TypeError",
     "evalue": "Dimensions of C (21, 21) should be one smaller than X(20) and Y(20) while using shading='flat' see help(pcolor)",
     "output_type": "error",
     "traceback": [
      "\u001B[1;31m---------------------------------------------------------------------------\u001B[0m",
      "\u001B[1;31mTypeError\u001B[0m                                 Traceback (most recent call last)",
      "Cell \u001B[1;32mIn[179], line 1\u001B[0m\n\u001B[1;32m----> 1\u001B[0m \u001B[43mplt\u001B[49m\u001B[38;5;241;43m.\u001B[39;49m\u001B[43mpcolor\u001B[49m\u001B[43m(\u001B[49m\u001B[43mXX0\u001B[49m\u001B[43m,\u001B[49m\u001B[43mYY0\u001B[49m\u001B[43m,\u001B[49m\u001B[43mtmp\u001B[49m\u001B[43m)\u001B[49m\n\u001B[0;32m      2\u001B[0m plt\u001B[38;5;241m.\u001B[39mcolorbar()\n",
      "File \u001B[1;32m~\\AppData\\Local\\anaconda3\\envs\\Torch\\lib\\site-packages\\matplotlib\\pyplot.py:2759\u001B[0m, in \u001B[0;36mpcolor\u001B[1;34m(shading, alpha, norm, cmap, vmin, vmax, data, *args, **kwargs)\u001B[0m\n\u001B[0;32m   2755\u001B[0m \u001B[38;5;129m@_copy_docstring_and_deprecators\u001B[39m(Axes\u001B[38;5;241m.\u001B[39mpcolor)\n\u001B[0;32m   2756\u001B[0m \u001B[38;5;28;01mdef\u001B[39;00m \u001B[38;5;21mpcolor\u001B[39m(\n\u001B[0;32m   2757\u001B[0m         \u001B[38;5;241m*\u001B[39margs, shading\u001B[38;5;241m=\u001B[39m\u001B[38;5;28;01mNone\u001B[39;00m, alpha\u001B[38;5;241m=\u001B[39m\u001B[38;5;28;01mNone\u001B[39;00m, norm\u001B[38;5;241m=\u001B[39m\u001B[38;5;28;01mNone\u001B[39;00m, cmap\u001B[38;5;241m=\u001B[39m\u001B[38;5;28;01mNone\u001B[39;00m,\n\u001B[0;32m   2758\u001B[0m         vmin\u001B[38;5;241m=\u001B[39m\u001B[38;5;28;01mNone\u001B[39;00m, vmax\u001B[38;5;241m=\u001B[39m\u001B[38;5;28;01mNone\u001B[39;00m, data\u001B[38;5;241m=\u001B[39m\u001B[38;5;28;01mNone\u001B[39;00m, \u001B[38;5;241m*\u001B[39m\u001B[38;5;241m*\u001B[39mkwargs):\n\u001B[1;32m-> 2759\u001B[0m     __ret \u001B[38;5;241m=\u001B[39m gca()\u001B[38;5;241m.\u001B[39mpcolor(\n\u001B[0;32m   2760\u001B[0m         \u001B[38;5;241m*\u001B[39margs, shading\u001B[38;5;241m=\u001B[39mshading, alpha\u001B[38;5;241m=\u001B[39malpha, norm\u001B[38;5;241m=\u001B[39mnorm, cmap\u001B[38;5;241m=\u001B[39mcmap,\n\u001B[0;32m   2761\u001B[0m         vmin\u001B[38;5;241m=\u001B[39mvmin, vmax\u001B[38;5;241m=\u001B[39mvmax,\n\u001B[0;32m   2762\u001B[0m         \u001B[38;5;241m*\u001B[39m\u001B[38;5;241m*\u001B[39m({\u001B[38;5;124m\"\u001B[39m\u001B[38;5;124mdata\u001B[39m\u001B[38;5;124m\"\u001B[39m: data} \u001B[38;5;28;01mif\u001B[39;00m data \u001B[38;5;129;01mis\u001B[39;00m \u001B[38;5;129;01mnot\u001B[39;00m \u001B[38;5;28;01mNone\u001B[39;00m \u001B[38;5;28;01melse\u001B[39;00m {}), \u001B[38;5;241m*\u001B[39m\u001B[38;5;241m*\u001B[39mkwargs)\n\u001B[0;32m   2763\u001B[0m     sci(__ret)\n\u001B[0;32m   2764\u001B[0m     \u001B[38;5;28;01mreturn\u001B[39;00m __ret\n",
      "File \u001B[1;32m~\\AppData\\Local\\anaconda3\\envs\\Torch\\lib\\site-packages\\matplotlib\\__init__.py:1442\u001B[0m, in \u001B[0;36m_preprocess_data.<locals>.inner\u001B[1;34m(ax, data, *args, **kwargs)\u001B[0m\n\u001B[0;32m   1439\u001B[0m \u001B[38;5;129m@functools\u001B[39m\u001B[38;5;241m.\u001B[39mwraps(func)\n\u001B[0;32m   1440\u001B[0m \u001B[38;5;28;01mdef\u001B[39;00m \u001B[38;5;21minner\u001B[39m(ax, \u001B[38;5;241m*\u001B[39margs, data\u001B[38;5;241m=\u001B[39m\u001B[38;5;28;01mNone\u001B[39;00m, \u001B[38;5;241m*\u001B[39m\u001B[38;5;241m*\u001B[39mkwargs):\n\u001B[0;32m   1441\u001B[0m     \u001B[38;5;28;01mif\u001B[39;00m data \u001B[38;5;129;01mis\u001B[39;00m \u001B[38;5;28;01mNone\u001B[39;00m:\n\u001B[1;32m-> 1442\u001B[0m         \u001B[38;5;28;01mreturn\u001B[39;00m func(ax, \u001B[38;5;241m*\u001B[39m\u001B[38;5;28mmap\u001B[39m(sanitize_sequence, args), \u001B[38;5;241m*\u001B[39m\u001B[38;5;241m*\u001B[39mkwargs)\n\u001B[0;32m   1444\u001B[0m     bound \u001B[38;5;241m=\u001B[39m new_sig\u001B[38;5;241m.\u001B[39mbind(ax, \u001B[38;5;241m*\u001B[39margs, \u001B[38;5;241m*\u001B[39m\u001B[38;5;241m*\u001B[39mkwargs)\n\u001B[0;32m   1445\u001B[0m     auto_label \u001B[38;5;241m=\u001B[39m (bound\u001B[38;5;241m.\u001B[39marguments\u001B[38;5;241m.\u001B[39mget(label_namer)\n\u001B[0;32m   1446\u001B[0m                   \u001B[38;5;129;01mor\u001B[39;00m bound\u001B[38;5;241m.\u001B[39mkwargs\u001B[38;5;241m.\u001B[39mget(label_namer))\n",
      "File \u001B[1;32m~\\AppData\\Local\\anaconda3\\envs\\Torch\\lib\\site-packages\\matplotlib\\axes\\_axes.py:5946\u001B[0m, in \u001B[0;36mAxes.pcolor\u001B[1;34m(self, shading, alpha, norm, cmap, vmin, vmax, *args, **kwargs)\u001B[0m\n\u001B[0;32m   5944\u001B[0m     shading \u001B[38;5;241m=\u001B[39m mpl\u001B[38;5;241m.\u001B[39mrcParams[\u001B[38;5;124m'\u001B[39m\u001B[38;5;124mpcolor.shading\u001B[39m\u001B[38;5;124m'\u001B[39m]\n\u001B[0;32m   5945\u001B[0m shading \u001B[38;5;241m=\u001B[39m shading\u001B[38;5;241m.\u001B[39mlower()\n\u001B[1;32m-> 5946\u001B[0m X, Y, C, shading \u001B[38;5;241m=\u001B[39m \u001B[38;5;28;43mself\u001B[39;49m\u001B[38;5;241;43m.\u001B[39;49m\u001B[43m_pcolorargs\u001B[49m\u001B[43m(\u001B[49m\u001B[38;5;124;43m'\u001B[39;49m\u001B[38;5;124;43mpcolor\u001B[39;49m\u001B[38;5;124;43m'\u001B[39;49m\u001B[43m,\u001B[49m\u001B[43m \u001B[49m\u001B[38;5;241;43m*\u001B[39;49m\u001B[43margs\u001B[49m\u001B[43m,\u001B[49m\u001B[43m \u001B[49m\u001B[43mshading\u001B[49m\u001B[38;5;241;43m=\u001B[39;49m\u001B[43mshading\u001B[49m\u001B[43m,\u001B[49m\n\u001B[0;32m   5947\u001B[0m \u001B[43m                                    \u001B[49m\u001B[43mkwargs\u001B[49m\u001B[38;5;241;43m=\u001B[39;49m\u001B[43mkwargs\u001B[49m\u001B[43m)\u001B[49m\n\u001B[0;32m   5948\u001B[0m Ny, Nx \u001B[38;5;241m=\u001B[39m X\u001B[38;5;241m.\u001B[39mshape\n\u001B[0;32m   5950\u001B[0m \u001B[38;5;66;03m# convert to MA, if necessary.\u001B[39;00m\n",
      "File \u001B[1;32m~\\AppData\\Local\\anaconda3\\envs\\Torch\\lib\\site-packages\\matplotlib\\axes\\_axes.py:5751\u001B[0m, in \u001B[0;36mAxes._pcolorargs\u001B[1;34m(self, funcname, shading, *args, **kwargs)\u001B[0m\n\u001B[0;32m   5749\u001B[0m \u001B[38;5;28;01mif\u001B[39;00m shading \u001B[38;5;241m==\u001B[39m \u001B[38;5;124m'\u001B[39m\u001B[38;5;124mflat\u001B[39m\u001B[38;5;124m'\u001B[39m:\n\u001B[0;32m   5750\u001B[0m     \u001B[38;5;28;01mif\u001B[39;00m (Nx, Ny) \u001B[38;5;241m!=\u001B[39m (ncols \u001B[38;5;241m+\u001B[39m \u001B[38;5;241m1\u001B[39m, nrows \u001B[38;5;241m+\u001B[39m \u001B[38;5;241m1\u001B[39m):\n\u001B[1;32m-> 5751\u001B[0m         \u001B[38;5;28;01mraise\u001B[39;00m \u001B[38;5;167;01mTypeError\u001B[39;00m(\u001B[38;5;124mf\u001B[39m\u001B[38;5;124m\"\u001B[39m\u001B[38;5;124mDimensions of C \u001B[39m\u001B[38;5;132;01m{\u001B[39;00mC\u001B[38;5;241m.\u001B[39mshape\u001B[38;5;132;01m}\u001B[39;00m\u001B[38;5;124m should\u001B[39m\u001B[38;5;124m\"\u001B[39m\n\u001B[0;32m   5752\u001B[0m                         \u001B[38;5;124mf\u001B[39m\u001B[38;5;124m\"\u001B[39m\u001B[38;5;124m be one smaller than X(\u001B[39m\u001B[38;5;132;01m{\u001B[39;00mNx\u001B[38;5;132;01m}\u001B[39;00m\u001B[38;5;124m) and Y(\u001B[39m\u001B[38;5;132;01m{\u001B[39;00mNy\u001B[38;5;132;01m}\u001B[39;00m\u001B[38;5;124m)\u001B[39m\u001B[38;5;124m\"\u001B[39m\n\u001B[0;32m   5753\u001B[0m                         \u001B[38;5;124mf\u001B[39m\u001B[38;5;124m\"\u001B[39m\u001B[38;5;124m while using shading=\u001B[39m\u001B[38;5;124m'\u001B[39m\u001B[38;5;124mflat\u001B[39m\u001B[38;5;124m'\u001B[39m\u001B[38;5;124m\"\u001B[39m\n\u001B[0;32m   5754\u001B[0m                         \u001B[38;5;124mf\u001B[39m\u001B[38;5;124m\"\u001B[39m\u001B[38;5;124m see help(\u001B[39m\u001B[38;5;132;01m{\u001B[39;00mfuncname\u001B[38;5;132;01m}\u001B[39;00m\u001B[38;5;124m)\u001B[39m\u001B[38;5;124m\"\u001B[39m)\n\u001B[0;32m   5755\u001B[0m \u001B[38;5;28;01melse\u001B[39;00m:    \u001B[38;5;66;03m# ['nearest', 'gouraud']:\u001B[39;00m\n\u001B[0;32m   5756\u001B[0m     \u001B[38;5;28;01mif\u001B[39;00m (Nx, Ny) \u001B[38;5;241m!=\u001B[39m (ncols, nrows):\n",
      "\u001B[1;31mTypeError\u001B[0m: Dimensions of C (21, 21) should be one smaller than X(20) and Y(20) while using shading='flat' see help(pcolor)"
     ]
    },
    {
     "data": {
      "text/plain": "<Figure size 640x480 with 1 Axes>",
      "image/png": "[encoded data removed]"
     },
     "metadata": {},
     "output_type": "display_data"
    }
   ],
   "source": [
    "plt.pcolor(XX0,YY0,tmp)\n",
    "plt.colorbar()"
   ],
   "metadata": {
    "collapsed": false,
    "ExecuteTime": {
     "start_time": "2023-05-20T16:24:59.281387Z",
     "end_time": "2023-05-20T16:24:59.515914Z"
    }
   }
  },
  {
   "cell_type": "markdown",
   "metadata": {},
   "source": [
    "## Stochastic Gradient descent in two dimensions"
   ]
  },
  {
   "cell_type": "code",
   "execution_count": null,
   "outputs": [],
   "source": [
    "def train_model_GD(iter,lr,f,x1,x2):\n",
    "    COORD = []\n",
    "    for epoch in range(iter):\n",
    "        loss = f(x1,x2)\n",
    "        COORD.append([x1.data,x2.data,loss.data])\n",
    "        loss.backward()\n",
    "        x1.data = x1.data - lr * x1.grad.data\n",
    "        x2.data = x2.data - lr * x2.grad.data\n",
    "\n",
    "        x1.grad.data.zero_();x2.grad.data.zero_()\n",
    "\n",
    "    return np.transpose(np.reshape(COORD,(iter,3)))\n"
   ],
   "metadata": {
    "collapsed": false
   }
  }
 ],
 "metadata": {
  "kernelspec": {
   "display_name": "Python 3 (ipykernel)",
   "language": "python",
   "name": "python3"
  },
  "language_info": {
   "codemirror_mode": {
    "name": "ipython",
    "version": 3
   },
   "file_extension": ".py",
   "mimetype": "text/x-python",
   "name": "python",
   "nbconvert_exporter": "python",
   "pygments_lexer": "ipython3",
   "version": "3.10.10"
  }
 },
 "nbformat": 4,
 "nbformat_minor": 1
}
